# jupyter_notebook_demo.py
# To convert this to a Jupyter Notebook, use: jupyter nbconvert --to notebook jupyter_notebook_demo.py

# %% [markdown]
# # Jupyter Notebook Demonstration
# 
# This notebook shows common Jupyter features and Python data science operations.

# %%
# Basic imports
import numpy as np
import pandas as pd
import matplotlib.pyplot as plt
import seaborn as sns
from sklearn.datasets import load_iris
from sklearn.model_selection import train_test_split
from sklearn.ensemble import RandomForestClassifier
from sklearn.metrics import classification_report

# %% [markdown]
# ## 1. Data Loading and Exploration

# %%
# Load sample dataset
iris = load_iris()
df = pd.DataFrame(iris.data, columns=iris.feature_names)
df['target'] = iris.target
df['species'] = df['target'].map({0: 'setosa', 1: 'versicolor', 2: 'virginica'})

# Show first 5 rows
df.head()

# %%
# Basic statistics
df.describe()

# %%
# Visualize data
plt.figure(figsize=(12, 6))
sns.scatterplot(
    x='sepal length (cm)', 
    y='sepal width (cm)', 
    hue='species', 
    data=df,
    palette='viridis'
)
plt.title('Sepal Length vs Sepal Width by Species')
plt.show()

# %% [markdown]
# ## 2. Data Preprocessing

# %%
# Split into features and target
X = df[iris.feature_names]
y = df['target']

# Train-test split
X_train, X_test, y_train, y_test = train_test_split(
    X, y, test_size=0.2, random_state=42
)

print(f"Training set size: {X_train.shape[0]} samples")
print(f"Test set size: {X_test.shape[0]} samples")

# %% [markdown]
# ## 3. Machine Learning Modeling

# %%
# Initialize and train model
model = RandomForestClassifier(n_estimators=100, random_state=42)
model.fit(X_train, y_train)

# %%
# Make predictions
y_pred = model.predict(X_test)

# Evaluate model
print(classification_report(y_test, y_pred))

# %% [markdown]
# ## 4. Interactive Widgets

# %%
# Requires ipywidgets package
from ipywidgets import interact

@interact
def plot_sepal_width(species=['setosa', 'versicolor', 'virginica']):
    plt.figure(figsize=(8, 5))
    sns.histplot(
        data=df[df['species'] == species],
        x='sepal width (cm)',
        kde=True,
        color='skyblue'
    )
    plt.title(f'Sepal Width Distribution for {species}')
    plt.show()

# %% [markdown]
# ## 5. Magic Commands

# %%
# Timing code execution
%timeit np.random.rand(1000, 1000)

# %%
# System commands
!pip list | grep pandas

# %% [markdown]
# ## 6. Multiple Outputs

# %%
# Display multiple outputs from one cell
print("Feature importances:")
for name, importance in zip(iris.feature_names, model.feature_importances_):
    print(f"{name}: {importance:.3f}")

# Plot feature importances
plt.figure(figsize=(10, 5))
sns.barplot(x=model.feature_importances_, y=iris.feature_names)
plt.title('Feature Importances')
plt.show()

# %% [markdown]
# ## 7. Exporting Results

# %%
# Save model predictions to CSV
results = X_test.copy()
results['actual'] = y_test
results['predicted'] = y_pred
results.to_csv('iris_predictions.csv', index=False)

print("Predictions saved to iris_predictions.csv")

# %% [markdown]
# ## 8. Markdown and LaTeX
# 
# You can include mathematical expressions using LaTeX:
# 
# The accuracy of the model is calculated as:
# 
# $$ \text{Accuracy} = \frac{TP + TN}{TP + TN + FP + FN} $$
# 
# Where:
# - TP = True Positives
# - TN = True Negatives
# - FP = False Positives
# - FN = False Negatives

# %% [markdown]
# ## 9. Displaying Different Content Types

# %%
# Display HTML
from IPython.display import HTML
HTML("<h3 style='color:green'>Analysis Complete!</h3>")

# %%
# Display images
from IPython.display import Image
Image(url='https://jupyter.org/assets/homepage/main-logo.svg', width=200)

# %% [markdown]
# ## 10. Debugging

# %%
# Debugging example
def calculate_average(values):
    return sum(values) / len(values)

# Debug with %debug magic
# Uncomment to try:
# values = [1, 2, '3', 4]
# calculate_average(values)
# Then run: %debug
